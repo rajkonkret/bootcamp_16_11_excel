{
  "nbformat": 4,
  "nbformat_minor": 0,
  "metadata": {
    "colab": {
      "provenance": [],
      "authorship_tag": "ABX9TyNAwbhUnDui9ASbijobOzAd",
      "include_colab_link": true
    },
    "kernelspec": {
      "name": "python3",
      "display_name": "Python 3"
    },
    "language_info": {
      "name": "python"
    }
  },
  "cells": [
    {
      "cell_type": "markdown",
      "metadata": {
        "id": "view-in-github",
        "colab_type": "text"
      },
      "source": [
        "<a href=\"https://colab.research.google.com/github/rajkonkret/bootcamp_16_11_excel/blob/main/excel_zad1.ipynb\" target=\"_parent\"><img src=\"https://colab.research.google.com/assets/colab-badge.svg\" alt=\"Open In Colab\"/></a>"
      ]
    },
    {
      "cell_type": "markdown",
      "source": [
        "Zadania z pracy z Excelem\n",
        "<h1>TST</h1>\n"
      ],
      "metadata": {
        "id": "3EmrshlzFHm3"
      }
    },
    {
      "cell_type": "code",
      "execution_count": 1,
      "metadata": {
        "colab": {
          "base_uri": "https://localhost:8080/"
        },
        "id": "WM0lPKjVE1Wn",
        "outputId": "ca912bb6-0f07-4847-a38a-70ea68aeac4b"
      },
      "outputs": [
        {
          "output_type": "stream",
          "name": "stdout",
          "text": [
            "Radek\n"
          ]
        }
      ],
      "source": [
        "print(\"Radek\")"
      ]
    },
    {
      "cell_type": "code",
      "source": [
        "a = 100"
      ],
      "metadata": {
        "id": "NHWAVlmXFbAl"
      },
      "execution_count": 2,
      "outputs": []
    },
    {
      "cell_type": "code",
      "source": [
        "a"
      ],
      "metadata": {
        "colab": {
          "base_uri": "https://localhost:8080/"
        },
        "id": "ZnjRbdM5FeZH",
        "outputId": "88b2cc95-ebf1-4500-869a-c40be1c9bb52"
      },
      "execution_count": 3,
      "outputs": [
        {
          "output_type": "execute_result",
          "data": {
            "text/plain": [
              "100"
            ]
          },
          "metadata": {},
          "execution_count": 3
        }
      ]
    },
    {
      "cell_type": "code",
      "source": [
        "from openpyxl import Workbook\n",
        "wb = Workbook()\n",
        "\n",
        "ws = wb.active\n",
        "ws['A1'] = 42\n",
        "ws.append([1, 2, 3])\n",
        "\n",
        "import datetime\n",
        "\n",
        "ws['A3'] = datetime.datetime.now()\n",
        "wb.save(\"sample.xlsx\")"
      ],
      "metadata": {
        "id": "yEfWJLQmFmj9"
      },
      "execution_count": 6,
      "outputs": []
    },
    {
      "cell_type": "code",
      "source": [
        "from google.colab import drive\n",
        "drive.mount('/content/drive')"
      ],
      "metadata": {
        "id": "CnWnVcD7Hw8R"
      },
      "execution_count": null,
      "outputs": []
    },
    {
      "cell_type": "markdown",
      "source": [
        "wczytanie pliku excel"
      ],
      "metadata": {
        "id": "ukamUDUjJB3z"
      }
    },
    {
      "cell_type": "code",
      "source": [
        "import openpyxl\n",
        "\n",
        "wb = openpyxl.load_workbook('videogamesales.xlsx')"
      ],
      "metadata": {
        "id": "zWGawyalJF6M"
      },
      "execution_count": 91,
      "outputs": []
    },
    {
      "cell_type": "code",
      "source": [
        "wb"
      ],
      "metadata": {
        "colab": {
          "base_uri": "https://localhost:8080/"
        },
        "id": "y9n2yLl0Jhyu",
        "outputId": "d80cd88f-332f-4cb3-b7f1-a8d6f0b5aae6"
      },
      "execution_count": 13,
      "outputs": [
        {
          "output_type": "execute_result",
          "data": {
            "text/plain": [
              "<openpyxl.workbook.workbook.Workbook at 0x797f2c122690>"
            ]
          },
          "metadata": {},
          "execution_count": 13
        }
      ]
    },
    {
      "cell_type": "markdown",
      "source": [
        "ctrl shift enter - uruchomienie kodu w komórce"
      ],
      "metadata": {
        "id": "-hqHZMNqJkd6"
      }
    },
    {
      "cell_type": "code",
      "source": [
        "ws = wb.active"
      ],
      "metadata": {
        "id": "sPFKOtXdJo2L"
      },
      "execution_count": 14,
      "outputs": []
    },
    {
      "cell_type": "code",
      "source": [
        "ws"
      ],
      "metadata": {
        "colab": {
          "base_uri": "https://localhost:8080/"
        },
        "id": "IXBZjVWyJ5er",
        "outputId": "7214de38-597a-40a6-c6ba-ba9f9374b85b"
      },
      "execution_count": 15,
      "outputs": [
        {
          "output_type": "execute_result",
          "data": {
            "text/plain": [
              "<Worksheet \"vgsales\">"
            ]
          },
          "metadata": {},
          "execution_count": 15
        }
      ]
    },
    {
      "cell_type": "code",
      "source": [
        "ws = wb['vgsales']"
      ],
      "metadata": {
        "colab": {
          "base_uri": "https://localhost:8080/",
          "height": 141
        },
        "id": "WqkD0bjzJ--c",
        "outputId": "bc3607c4-f694-48c8-a84b-7c383ea42a01"
      },
      "execution_count": 90,
      "outputs": [
        {
          "output_type": "error",
          "ename": "TypeError",
          "evalue": "list indices must be integers or slices, not str",
          "traceback": [
            "\u001b[0;31m---------------------------------------------------------------------------\u001b[0m",
            "\u001b[0;31mTypeError\u001b[0m                                 Traceback (most recent call last)",
            "\u001b[0;32m<ipython-input-90-4df18e654bcd>\u001b[0m in \u001b[0;36m<cell line: 0>\u001b[0;34m()\u001b[0m\n\u001b[0;32m----> 1\u001b[0;31m \u001b[0mws\u001b[0m \u001b[0;34m=\u001b[0m \u001b[0mwb\u001b[0m\u001b[0;34m[\u001b[0m\u001b[0;34m'vgsales'\u001b[0m\u001b[0;34m]\u001b[0m\u001b[0;34m\u001b[0m\u001b[0;34m\u001b[0m\u001b[0m\n\u001b[0m",
            "\u001b[0;31mTypeError\u001b[0m: list indices must be integers or slices, not str"
          ]
        }
      ]
    },
    {
      "cell_type": "code",
      "source": [
        "print('Total number of rows: ' + str(ws.max_row) + ' Total number of columns: ' + str(ws.max_column))"
      ],
      "metadata": {
        "colab": {
          "base_uri": "https://localhost:8080/"
        },
        "id": "P6h-UIpwKawI",
        "outputId": "56ced759-dcdc-4f1b-f10e-13e73a4fde73"
      },
      "execution_count": 18,
      "outputs": [
        {
          "output_type": "stream",
          "name": "stdout",
          "text": [
            "Total number of rows: 16328 Total number of columns: 10\n"
          ]
        }
      ]
    },
    {
      "cell_type": "code",
      "source": [
        "print('The value in cell A1 is: ' + ws['A1'].value)"
      ],
      "metadata": {
        "colab": {
          "base_uri": "https://localhost:8080/"
        },
        "id": "40uviDzuK6uR",
        "outputId": "afdcfe5b-2e1f-4fd6-e2f9-5e190ab832e1"
      },
      "execution_count": 20,
      "outputs": [
        {
          "output_type": "stream",
          "name": "stdout",
          "text": [
            "The value in cell A1 is: Rank\n"
          ]
        }
      ]
    },
    {
      "cell_type": "code",
      "source": [
        "values = [ws.cell(row=1, column=i).value for i in range(1, ws.max_column + 1)]\n",
        "print(values)"
      ],
      "metadata": {
        "colab": {
          "base_uri": "https://localhost:8080/"
        },
        "id": "qfj3H2JjLTnz",
        "outputId": "c7975fad-3627-4cd6-9c44-82893ea31c98"
      },
      "execution_count": 25,
      "outputs": [
        {
          "output_type": "stream",
          "name": "stdout",
          "text": [
            "['Rank', 'Name', 'Platform', 'Year', 'Genre', 'Publisher', 'NA_Sales', 'EU_Sales', 'JP_Sales', 'Other_Sales']\n"
          ]
        }
      ]
    },
    {
      "cell_type": "code",
      "source": [
        "data = [ws.cell(row=i, column=2).value for i in range(2, 12)]\n",
        "print(data)"
      ],
      "metadata": {
        "colab": {
          "base_uri": "https://localhost:8080/"
        },
        "id": "JV3vHPreL5EG",
        "outputId": "607ecffd-f105-4c93-9aff-09ffc0f38e73"
      },
      "execution_count": 26,
      "outputs": [
        {
          "output_type": "stream",
          "name": "stdout",
          "text": [
            "['Wii Sports', 'Super Mario Bros.', 'Mario Kart Wii', 'Wii Sports Resort', 'Pokemon Red/Pokemon Blue', 'Tetris', 'New Super Mario Bros.', 'Wii Play', 'New Super Mario Bros. Wii', 'Duck Hunt']\n"
          ]
        }
      ]
    },
    {
      "cell_type": "markdown",
      "source": [
        "\n",
        "\n",
        "```\n",
        "Wii Sports\n",
        "Super Mario Bros.\n",
        "Mario Kart Wii\n",
        "Wii Sports Resort\n",
        "Pokemon Red/Pokemon Blue\n",
        "Tetris\n",
        "New Super Mario Bros.\n",
        "Wii Play\n",
        "New Super Mario Bros. Wii\n",
        "Duck Hunt\n",
        "\n",
        "```\n",
        "\n"
      ],
      "metadata": {
        "id": "M5IZt9G2MRUq"
      }
    },
    {
      "cell_type": "code",
      "source": [
        "my_list = list()\n",
        "\n",
        "for value in ws.iter_rows(\n",
        "    min_row=1, max_row=11, min_col=1, max_col=6,\n",
        "    values_only=True):\n",
        "    my_list.append(value)\n",
        "\n",
        "print(my_list)\n",
        "for ele1, ele2, ele3, ele4, ele5, ele6 in my_list:\n",
        "    print(f\"{ele1:<8}{ele2:<35}{ele3:<10}{ele4:<10}{ele5:<15}{ele6:<15}\")"
      ],
      "metadata": {
        "colab": {
          "base_uri": "https://localhost:8080/"
        },
        "id": "ooqQKYh4NGqh",
        "outputId": "851a8921-4bc2-4339-d5e4-582784074623"
      },
      "execution_count": 29,
      "outputs": [
        {
          "output_type": "stream",
          "name": "stdout",
          "text": [
            "[('Rank', 'Name', 'Platform', 'Year', 'Genre', 'Publisher'), (1, 'Wii Sports', 'Wii', 2006, 'Sports', 'Nintendo'), (2, 'Super Mario Bros.', 'NES', 1985, 'Platform', 'Nintendo'), (3, 'Mario Kart Wii', 'Wii', 2008, 'Racing', 'Nintendo'), (4, 'Wii Sports Resort', 'Wii', 2009, 'Sports', 'Nintendo'), (5, 'Pokemon Red/Pokemon Blue', 'GB', 1996, 'Role-Playing', 'Nintendo'), (6, 'Tetris', 'GB', 1989, 'Puzzle', 'Nintendo'), (7, 'New Super Mario Bros.', 'DS', 2006, 'Platform', 'Nintendo'), (8, 'Wii Play', 'Wii', 2006, 'Misc', 'Nintendo'), (9, 'New Super Mario Bros. Wii', 'Wii', 2009, 'Platform', 'Nintendo'), (10, 'Duck Hunt', 'NES', 1984, 'Shooter', 'Nintendo')]\n",
            "Rank    Name                               Platform  Year      Genre          Publisher      \n",
            "1       Wii Sports                         Wii       2006      Sports         Nintendo       \n",
            "2       Super Mario Bros.                  NES       1985      Platform       Nintendo       \n",
            "3       Mario Kart Wii                     Wii       2008      Racing         Nintendo       \n",
            "4       Wii Sports Resort                  Wii       2009      Sports         Nintendo       \n",
            "5       Pokemon Red/Pokemon Blue           GB        1996      Role-Playing   Nintendo       \n",
            "6       Tetris                             GB        1989      Puzzle         Nintendo       \n",
            "7       New Super Mario Bros.              DS        2006      Platform       Nintendo       \n",
            "8       Wii Play                           Wii       2006      Misc           Nintendo       \n",
            "9       New Super Mario Bros. Wii          Wii       2009      Platform       Nintendo       \n",
            "10      Duck Hunt                          NES       1984      Shooter        Nintendo       \n"
          ]
        }
      ]
    },
    {
      "cell_type": "code",
      "source": [
        "ws['K1'] = \"Sum of Sales\""
      ],
      "metadata": {
        "id": "dkMfhcQ1PVfQ"
      },
      "execution_count": 30,
      "outputs": []
    },
    {
      "cell_type": "code",
      "source": [
        "ws['K1'].value"
      ],
      "metadata": {
        "colab": {
          "base_uri": "https://localhost:8080/",
          "height": 36
        },
        "id": "mbKuQZ8kPv4m",
        "outputId": "1930a809-9893-47f8-8088-d3709198a69b"
      },
      "execution_count": 31,
      "outputs": [
        {
          "output_type": "execute_result",
          "data": {
            "text/plain": [
              "'Sum of Sales'"
            ],
            "application/vnd.google.colaboratory.intrinsic+json": {
              "type": "string"
            }
          },
          "metadata": {},
          "execution_count": 31
        }
      ]
    },
    {
      "cell_type": "code",
      "source": [
        "ws.cell(row=1, column=11, value=\"Sum of Sales\")"
      ],
      "metadata": {
        "colab": {
          "base_uri": "https://localhost:8080/"
        },
        "id": "be7ZF9HNP6mi",
        "outputId": "4ce9dcee-41ae-459a-e57f-6ec67f69c992"
      },
      "execution_count": 32,
      "outputs": [
        {
          "output_type": "execute_result",
          "data": {
            "text/plain": [
              "<Cell 'vgsales'.K1>"
            ]
          },
          "metadata": {},
          "execution_count": 32
        }
      ]
    },
    {
      "cell_type": "code",
      "source": [
        "print(ws.cell(row=1, column=11).value)"
      ],
      "metadata": {
        "colab": {
          "base_uri": "https://localhost:8080/"
        },
        "id": "XL_ddVQiQDKq",
        "outputId": "bc9a8e2d-550a-422a-b266-f0aafab69df5"
      },
      "execution_count": 38,
      "outputs": [
        {
          "output_type": "stream",
          "name": "stdout",
          "text": [
            "Sum of Sales\n"
          ]
        }
      ]
    },
    {
      "cell_type": "code",
      "source": [
        "ws['K1'].value"
      ],
      "metadata": {
        "colab": {
          "base_uri": "https://localhost:8080/",
          "height": 36
        },
        "id": "0-cX-ZnmQnLg",
        "outputId": "2cc76ed9-2b75-4713-d07f-f8e889ccfe9e"
      },
      "execution_count": 39,
      "outputs": [
        {
          "output_type": "execute_result",
          "data": {
            "text/plain": [
              "'Sum of Sales'"
            ],
            "application/vnd.google.colaboratory.intrinsic+json": {
              "type": "string"
            }
          },
          "metadata": {},
          "execution_count": 39
        }
      ]
    },
    {
      "cell_type": "code",
      "source": [
        "wb.save('videogamesales.xlsx')"
      ],
      "metadata": {
        "id": "dvh8qsEVQy2j"
      },
      "execution_count": 40,
      "outputs": []
    },
    {
      "cell_type": "markdown",
      "source": [
        "Dodanie kolumny - suma sprzedazy"
      ],
      "metadata": {
        "id": "CXMNkdv2RcA9"
      }
    },
    {
      "cell_type": "code",
      "source": [
        "row_position = 2\n",
        "col_position = 7\n",
        "\n",
        "total_sales = ((ws.cell(row=row_position, column=col_position).value) +\n",
        "              (ws.cell(row=row_position, column=col_position+1).value) +\n",
        "               (ws.cell(row=row_position, column=col_position+2).value) +\n",
        "               (ws.cell(row=row_position, column=col_position+3).value))\n",
        "\n",
        "ws.cell(row=2, column=11).value = total_sales\n",
        "wb.save('videogamesales.xlsx')"
      ],
      "metadata": {
        "id": "ixYOaRw7RboR"
      },
      "execution_count": 41,
      "outputs": []
    },
    {
      "cell_type": "code",
      "source": [
        "row_position = 1\n",
        "for i in range(1, ws.max_row):\n",
        "\n",
        "    row_position += 1\n",
        "    NA_Sales = ws.cell(row=row_position, column=7).value\n",
        "    EU_Sales = ws.cell(row=row_position, column=8).value\n",
        "    JP_Sales = ws.cell(row=row_position, column=9).value\n",
        "    Other_Sales = ws.cell(row=row_position, column=10).value\n",
        "\n",
        "    total_sales = (NA_Sales + EU_Sales + JP_Sales + Other_Sales)\n",
        "    ws.cell(row=row_position, column=11).value = total_sales\n",
        "\n",
        "\n",
        "wb.save('videogamesales.xlsx')\n"
      ],
      "metadata": {
        "id": "dDYyF7LDUUs4"
      },
      "execution_count": 43,
      "outputs": []
    },
    {
      "cell_type": "markdown",
      "source": [
        "dodanie wiersza"
      ],
      "metadata": {
        "id": "cthIHOH_WIxD"
      }
    },
    {
      "cell_type": "code",
      "source": [
        "new_row = (1, 'The Legend of Zelda', 1986, 'Action', 'Nintendo', 3.74, 0.93, 1.69, 0.14, 6.51, 6.5)\n",
        "ws.append(new_row)\n",
        "\n",
        "wb.save('videogamesales.xlsx')"
      ],
      "metadata": {
        "id": "38xztnvpWKLf"
      },
      "execution_count": 44,
      "outputs": []
    },
    {
      "cell_type": "code",
      "source": [
        "values = [ws.cell(row=ws.max_row, column=i).value for i in range(1, ws.max_column+1)]\n",
        "print(values)"
      ],
      "metadata": {
        "colab": {
          "base_uri": "https://localhost:8080/"
        },
        "id": "wdyOj-6zXGaC",
        "outputId": "e971e7bf-346d-4681-ee76-29c72dc11cb5"
      },
      "execution_count": 45,
      "outputs": [
        {
          "output_type": "stream",
          "name": "stdout",
          "text": [
            "[1, 'The Legend of Zelda', 1986, 'Action', 'Nintendo', 3.74, 0.93, 1.69, 0.14, 6.51, 6.5]\n"
          ]
        }
      ]
    },
    {
      "cell_type": "markdown",
      "source": [
        "Usunięcie wiersza"
      ],
      "metadata": {
        "id": "-LntLxEsXizw"
      }
    },
    {
      "cell_type": "code",
      "source": [
        "ws.delete_rows(ws.max_row, 1)\n",
        "wb.save('videogamesales.xlsx')"
      ],
      "metadata": {
        "id": "Djmoc8bkXiVH"
      },
      "execution_count": 46,
      "outputs": []
    },
    {
      "cell_type": "markdown",
      "source": [
        "AVERAGE - obliczenie średniej"
      ],
      "metadata": {
        "id": "khkwyaTsYO4M"
      }
    },
    {
      "cell_type": "code",
      "source": [
        "ws['P1'] = \"Average Sales\"\n",
        "ws['P2'] = '= AVERAGE(K2:K16220)'\n",
        "\n",
        "wb.save('videogamesales.xlsx')"
      ],
      "metadata": {
        "id": "ooAfyN54YVxZ"
      },
      "execution_count": 51,
      "outputs": []
    },
    {
      "cell_type": "markdown",
      "source": [
        "COUNTA - zlicza komórki (niepuste)"
      ],
      "metadata": {
        "id": "YkEW7pt3Y_MN"
      }
    },
    {
      "cell_type": "code",
      "source": [
        "ws['Q1'] = \"Number of Populated Cells\"\n",
        "ws['Q2'] = '=COUNTA(E2:E16220)'\n",
        "\n",
        "wb.save('videogamesales.xlsx')"
      ],
      "metadata": {
        "id": "Dqkop3q7ZJCs"
      },
      "execution_count": 53,
      "outputs": []
    },
    {
      "cell_type": "markdown",
      "source": [
        "COUNTIF - liczy spełniające warunek"
      ],
      "metadata": {
        "id": "sBQ8R9lPbIOB"
      }
    },
    {
      "cell_type": "code",
      "source": [
        "ws['R1'] = \"Number of Rows with Sports Genre\"\n",
        "ws['R2'] = '=COUNTIF(E2:E16220, \"Sports\")'\n",
        "\n",
        "wb.save('videogamesales.xlsx')"
      ],
      "metadata": {
        "id": "OceHFqmjbYgR"
      },
      "execution_count": 55,
      "outputs": []
    },
    {
      "cell_type": "markdown",
      "source": [
        "SUMIF - sumuje spełniające warunek"
      ],
      "metadata": {
        "id": "M7yn4H1PcF9k"
      }
    },
    {
      "cell_type": "code",
      "source": [
        "ws['S1'] = 'Total Sports Sales'\n",
        "ws['S2'] = '=SUMIF(E2:E16220, \"Sports\", K2:K16620)'\n",
        "\n",
        "wb.save('videogamesales.xlsx')"
      ],
      "metadata": {
        "id": "JfNDfNuFcFUw"
      },
      "execution_count": 57,
      "outputs": []
    },
    {
      "cell_type": "markdown",
      "source": [
        "CEILING - zaokraglenie"
      ],
      "metadata": {
        "id": "2gfIgiyuc35R"
      }
    },
    {
      "cell_type": "code",
      "source": [
        "ws['T1'] = \"Rounded Sum of Sports Sales\"\n",
        "ws['T2'] = '=CEILING(S2,25)'\n",
        "\n",
        "wb.save('videogamesales.xlsx')"
      ],
      "metadata": {
        "id": "MoTJSKskc74N"
      },
      "execution_count": 58,
      "outputs": []
    },
    {
      "cell_type": "code",
      "source": [
        "print(ws.title)"
      ],
      "metadata": {
        "colab": {
          "base_uri": "https://localhost:8080/"
        },
        "id": "RcZE-jHvnPO2",
        "outputId": "277776eb-7535-451c-c0c6-5642c7630ff5"
      },
      "execution_count": 59,
      "outputs": [
        {
          "output_type": "stream",
          "name": "stdout",
          "text": [
            "vgsales\n"
          ]
        }
      ]
    },
    {
      "cell_type": "code",
      "source": [
        "ws.title = 'Video Games Sales Data'\n",
        "wb.save('videogamesales.xlsx')"
      ],
      "metadata": {
        "id": "qR973R-Gnb6S"
      },
      "execution_count": 60,
      "outputs": []
    },
    {
      "cell_type": "code",
      "source": [
        "print(wb.sheetnames)"
      ],
      "metadata": {
        "colab": {
          "base_uri": "https://localhost:8080/"
        },
        "id": "mnajs7l8n8N5",
        "outputId": "0f83205e-20f8-4e18-92c8-043c418d7549"
      },
      "execution_count": 61,
      "outputs": [
        {
          "output_type": "stream",
          "name": "stdout",
          "text": [
            "['Video Games Sales Data', 'Total Sales by Genre', 'Breakdown of Sales by Genre', 'Breakdown of Sales by Year']\n"
          ]
        }
      ]
    },
    {
      "cell_type": "markdown",
      "source": [
        "dodanie arkusza"
      ],
      "metadata": {
        "id": "zbyf0vD2oDL5"
      }
    },
    {
      "cell_type": "code",
      "source": [
        "wb.create_sheet('Empty Sheet')\n",
        "print(wb.sheetnames)\n",
        "\n",
        "wb.save('videogamesales.xlsx')"
      ],
      "metadata": {
        "colab": {
          "base_uri": "https://localhost:8080/"
        },
        "id": "oDIS3ktCoCRb",
        "outputId": "ef5d86fd-a24b-477a-b9de-de5edfbaf6ad"
      },
      "execution_count": 65,
      "outputs": [
        {
          "output_type": "stream",
          "name": "stdout",
          "text": [
            "['Video Games Sales Data', 'Total Sales by Genre', 'Breakdown of Sales by Genre', 'Breakdown of Sales by Year', 'Empty Sheet']\n"
          ]
        }
      ]
    },
    {
      "cell_type": "markdown",
      "source": [
        "usunięcie arkusza"
      ],
      "metadata": {
        "id": "2oHmk60Womp7"
      }
    },
    {
      "cell_type": "code",
      "source": [
        "wb.remove(wb['Empty Sheet'])\n",
        "print(wb.sheetnames)\n",
        "\n",
        "wb.save('videogamesales.xlsx')"
      ],
      "metadata": {
        "colab": {
          "base_uri": "https://localhost:8080/"
        },
        "id": "vVE848ykojrZ",
        "outputId": "49b689f9-6d44-4504-e104-ffbbc8a9b92d"
      },
      "execution_count": 66,
      "outputs": [
        {
          "output_type": "stream",
          "name": "stdout",
          "text": [
            "['Video Games Sales Data', 'Total Sales by Genre', 'Breakdown of Sales by Genre', 'Breakdown of Sales by Year']\n"
          ]
        }
      ]
    },
    {
      "cell_type": "markdown",
      "source": [
        "Powielenie arkusza"
      ],
      "metadata": {
        "id": "j8Wua7anpB0G"
      }
    },
    {
      "cell_type": "code",
      "source": [
        "wb.copy_worksheet(wb['Video Games Sales Data'])\n",
        "wb.save('vgsales_2.xlsx')"
      ],
      "metadata": {
        "id": "WbSb2p02pBls"
      },
      "execution_count": 68,
      "outputs": []
    },
    {
      "cell_type": "code",
      "source": [
        "ws = wb['Total Sales by Genre']\n"
      ],
      "metadata": {
        "id": "iuvpBz5WprT1"
      },
      "execution_count": 69,
      "outputs": []
    },
    {
      "cell_type": "markdown",
      "source": [
        "wykres słupkowy"
      ],
      "metadata": {
        "id": "ijKBHrfuxBxo"
      }
    },
    {
      "cell_type": "code",
      "source": [
        "from openpyxl.chart import Reference"
      ],
      "metadata": {
        "id": "HR_8EizQpzQf"
      },
      "execution_count": 70,
      "outputs": []
    },
    {
      "cell_type": "code",
      "source": [
        "values = Reference(ws,\n",
        "                   min_col=2,\n",
        "                   max_col=2,\n",
        "                   min_row=1,\n",
        "                   max_row=13)"
      ],
      "metadata": {
        "id": "EXSQFL7up_hD"
      },
      "execution_count": 77,
      "outputs": []
    },
    {
      "cell_type": "code",
      "source": [
        "cats = Reference(ws,\n",
        "                 min_col=1,\n",
        "                 max_col=1,\n",
        "                 min_row=2,\n",
        "                 max_row=13)"
      ],
      "metadata": {
        "id": "wivKfWQuqUgm"
      },
      "execution_count": 76,
      "outputs": []
    },
    {
      "cell_type": "code",
      "source": [
        "from openpyxl.chart import BarChart\n",
        "chart = BarChart()\n",
        "chart.add_data(values, titles_from_data=True)\n",
        "chart.set_categories(cats)\n",
        "\n",
        "chart.title = \"Total Sales\"\n",
        "chart.x_axis.title = \"Genre\"\n",
        "chart.y_axis.title = \"Total Sales by Genre\"\n",
        "\n",
        "ws.add_chart(chart, \"D2\")\n",
        "\n",
        "wb.save(\"videogamesales.xlsx\")"
      ],
      "metadata": {
        "id": "J3bDUfCoqktU"
      },
      "execution_count": 78,
      "outputs": []
    },
    {
      "cell_type": "code",
      "source": [
        "ws = wb['Breakdown of Sales by Genre']\n",
        "values = Reference(ws,\n",
        "                   min_col=2,\n",
        "                   max_col=5,\n",
        "                   min_row=1,\n",
        "                   max_row=13)\n",
        "\n",
        "cats = Reference(ws,\n",
        "                 min_col=1,\n",
        "                 max_col=1,\n",
        "                 min_row=2,\n",
        "                 max_row=13)\n",
        "\n"
      ],
      "metadata": {
        "id": "bs-_s40PvEEk"
      },
      "execution_count": 92,
      "outputs": []
    },
    {
      "cell_type": "code",
      "source": [
        "chart = BarChart()\n",
        "chart.add_data(values, titles_from_data=True)\n",
        "chart.set_categories(cats)\n",
        "\n",
        "chart.title = \"Sales Braekdown\"\n",
        "chart.x_axis.title = \"Genre\"\n",
        "chart.y_axis.title = \"Brakdown of Sales by Genre\"\n",
        "\n",
        "ws.add_chart(chart, \"H2\")\n",
        "\n",
        "wb.save(\"videogamesales.xlsx\")"
      ],
      "metadata": {
        "id": "M7p5WdurvhNk"
      },
      "execution_count": 80,
      "outputs": []
    },
    {
      "cell_type": "markdown",
      "source": [
        "Wykres liniowy"
      ],
      "metadata": {
        "id": "l1RAc0HZxd9x"
      }
    },
    {
      "cell_type": "code",
      "source": [
        "values = Reference(ws,\n",
        "                   min_col=2,\n",
        "                   max_col=6,\n",
        "                   min_row=1,\n",
        "                   max_row=40)\n",
        "\n",
        "cats = Reference(ws, min_col=1, max_col=1, min_row=2, max_row=40)"
      ],
      "metadata": {
        "id": "d8lXyuM2w8mN"
      },
      "execution_count": 82,
      "outputs": []
    },
    {
      "cell_type": "code",
      "source": [
        "from openpyxl.chart import LineChart\n",
        "\n",
        "chart = LineChart()\n",
        "chart.add_data(values, titles_from_data=True)\n",
        "chart.set_categories(cats)\n",
        "\n",
        "chart.title = \"Total Sales\"\n",
        "chart.x_axis.title = \"Year\"\n",
        "chart.y_axis.title = \"Total Sales by  Year\"\n",
        "\n",
        "ws.add_chart(chart, \"H2\")\n",
        "\n",
        "wb.save(\"videogamesales.xlsx\")"
      ],
      "metadata": {
        "id": "HWyWP3-dxgjo"
      },
      "execution_count": 83,
      "outputs": []
    },
    {
      "cell_type": "code",
      "source": [
        "from openpyxl.styles import Font"
      ],
      "metadata": {
        "id": "ZTFzaauQzBUo"
      },
      "execution_count": 84,
      "outputs": []
    },
    {
      "cell_type": "code",
      "source": [
        "ws = wb['Video Games Sales Data']\n",
        "ws['A1'].font = Font(bold=True, size=12)\n",
        "\n",
        "wb.save(\"videogamesales.xlsx\")"
      ],
      "metadata": {
        "id": "HfLc4mXNzJsC"
      },
      "execution_count": 93,
      "outputs": []
    },
    {
      "cell_type": "code",
      "source": [
        "for cell in ws[\"1:1\"]:\n",
        "    cell.font = Font(bold=True, size=12)\n",
        "\n",
        "wb.save(\"videogamesales.xlsx\")"
      ],
      "metadata": {
        "id": "k1ZyocPn0dXH"
      },
      "execution_count": 94,
      "outputs": []
    },
    {
      "cell_type": "code",
      "source": [
        "from openpyxl.styles import colors\n",
        "\n",
        "ws['A1'].font = Font(color='FF0000', bold=True, size=12)  # red\n",
        "ws['A2'].font = Font(color='0000FF') # blue\n",
        "\n",
        "wb.save(\"videogamesales.xlsx\")"
      ],
      "metadata": {
        "id": "-Oyuxy67088P"
      },
      "execution_count": 95,
      "outputs": []
    },
    {
      "cell_type": "code",
      "source": [
        "# zmiana koloru tła w komórce\n",
        "from openpyxl.styles import PatternFill\n",
        "\n",
        "ws['A1'].fill = PatternFill('solid', start_color=\"38e3ff\")\n",
        "\n",
        "wb.save(\"videogamesales.xlsx\")"
      ],
      "metadata": {
        "id": "Qzesf95f1kg4"
      },
      "execution_count": 96,
      "outputs": []
    },
    {
      "cell_type": "code",
      "source": [
        "from openpyxl.styles import Border, Side\n",
        "my_border = Side(border_style='thin', color=\"000000\")\n",
        "\n",
        "ws['A1'].border = Border(\n",
        "    top=my_border, left=my_border, right=my_border, bottom=my_border\n",
        ")\n",
        "\n",
        "wb.save(\"videogamesales.xlsx\")"
      ],
      "metadata": {
        "id": "Rowy2xRc2IZU"
      },
      "execution_count": 97,
      "outputs": []
    },
    {
      "cell_type": "code",
      "source": [
        "from openpyxl.formatting.rule import CellIsRule\n",
        "\n",
        "fill = PatternFill(\n",
        "    start_color='90EE90',\n",
        "    end_color='90EE90', fill_type='solid')\n",
        "\n",
        "ws.conditional_formatting.add(\n",
        "    'G2:K16594', CellIsRule(operator='greaterThan', formula=[8], fill=fill))\n",
        "\n",
        "wb.save(\"videogamesales.xlsx\")"
      ],
      "metadata": {
        "id": "D2anJIRR24L_"
      },
      "execution_count": 99,
      "outputs": []
    }
  ]
}